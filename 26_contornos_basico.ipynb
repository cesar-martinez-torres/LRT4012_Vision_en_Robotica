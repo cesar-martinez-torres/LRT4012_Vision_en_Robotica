{
 "cells": [
  {
   "cell_type": "markdown",
   "id": "328212e3",
   "metadata": {},
   "source": [
    "# 26 · Contornos básicos y propiedades geométricas"
   ]
  },
  {
   "cell_type": "markdown",
   "id": "06daacd1",
   "metadata": {},
   "source": [
    "Imports y ruta de imagen."
   ]
  },
  {
   "cell_type": "code",
   "execution_count": null,
   "id": "995a2fe8",
   "metadata": {},
   "outputs": [],
   "source": [
    "import cv2, numpy as np, matplotlib.pyplot as plt, pandas as pd\n",
    "\n",
    "# IMG_PATH = r\"C:\\\\Users\\\\20808\\\\Documents\\\\Repositorios\\\\Vision_en_Robotica\\\\imagenes\\\\pildoras.png\"\n",
    "# IMG_PATH = r\"C:\\\\Users\\\\20808\\\\Documents\\\\Repositorios\\\\Vision_en_Robotica\\\\imagenes\\\\pildoras1.png\"\n",
    "IMG_PATH = r\"C:\\\\Users\\\\20808\\\\Documents\\\\Repositorios\\\\Vision_en_Robotica\\\\imagenes\\\\pildoras2.png\"\n",
    "# IMG_PATH = r\"C:\\\\Users\\\\20808\\\\Documents\\\\Repositorios\\\\Vision_en_Robotica\\\\imagenes\\\\pildoras3.png\""
   ]
  },
  {
   "cell_type": "markdown",
   "id": "19bac692",
   "metadata": {},
   "source": [
    "Carga y visualización."
   ]
  },
  {
   "cell_type": "code",
   "execution_count": null,
   "id": "6647e729",
   "metadata": {},
   "outputs": [],
   "source": [
    "bgr = cv2.imread(IMG_PATH, cv2.IMREAD_COLOR)\n",
    "if bgr is None:\n",
    "    raise FileNotFoundError(f\"No se pudo cargar: {IMG_PATH}\")\n",
    "rgb = cv2.cvtColor(bgr, cv2.COLOR_BGR2RGB)\n",
    "plt.figure(figsize=(6,6)); plt.imshow(rgb); plt.title(\"RGB\"); plt.axis(\"off\"); plt.show()"
   ]
  },
  {
   "cell_type": "markdown",
   "id": "ffb6d5d7",
   "metadata": {},
   "source": [
    "Conversión a gris, suavizado y umbralización (Otsu) con polaridad automática según brillo medio."
   ]
  },
  {
   "cell_type": "code",
   "execution_count": null,
   "id": "6cd9e3b2",
   "metadata": {},
   "outputs": [],
   "source": [
    "gray = cv2.cvtColor(bgr, cv2.COLOR_BGR2GRAY)\n",
    "gray_blur = cv2.GaussianBlur(gray, (5,5), 0)\n",
    "use_inverse = gray_blur.mean() > 127\n",
    "mode = cv2.THRESH_BINARY_INV if use_inverse else cv2.THRESH_BINARY\n",
    "_, bin_img = cv2.threshold(gray_blur, 0, 255, mode + cv2.THRESH_OTSU)\n",
    "\n",
    "plt.figure(figsize=(6,6)); plt.imshow(bin_img, cmap=\"gray\"); plt.title(f\"Binaria (Otsu) modo={'INV' if use_inverse else 'BIN'}\"); plt.axis(\"off\"); plt.show()"
   ]
  },
  {
   "cell_type": "markdown",
   "id": "cbd920cd",
   "metadata": {},
   "source": [
    "Detección de contornos externos (`RETR_EXTERNAL`, `CHAIN_APPROX_SIMPLE`)."
   ]
  },
  {
   "cell_type": "code",
   "execution_count": null,
   "id": "5bea7563",
   "metadata": {},
   "outputs": [],
   "source": [
    "contours, hierarchy = cv2.findContours(bin_img, cv2.RETR_EXTERNAL, cv2.CHAIN_APPROX_SIMPLE)\n",
    "print(f\"Contornos detectados (externos): {len(contours)}\")\n",
    "\n",
    "vis = rgb.copy()\n",
    "cv2.drawContours(vis, contours, -1, (255,0,0), 2)\n",
    "plt.figure(figsize=(6,6)); plt.imshow(vis); plt.title(\"Contornos externos\"); plt.axis(\"off\"); plt.show()"
   ]
  },
  {
   "cell_type": "markdown",
   "id": "476b81ed",
   "metadata": {},
   "source": [
    "Cálculo de área, perímetro, bounding box y centroide (momentos)."
   ]
  },
  {
   "cell_type": "code",
   "execution_count": null,
   "id": "224ed2f0",
   "metadata": {},
   "outputs": [],
   "source": [
    "rows = []\n",
    "vis_props = rgb.copy()\n",
    "for i, cnt in enumerate(contours, start=1):\n",
    "    area = cv2.contourArea(cnt)\n",
    "    perimeter = cv2.arcLength(cnt, True)\n",
    "    x,y,w,h = cv2.boundingRect(cnt)\n",
    "    M = cv2.moments(cnt)\n",
    "    if M['m00'] != 0:\n",
    "        cx, cy = M['m10']/M['m00'], M['m01']/M['m00']\n",
    "    else:\n",
    "        cx, cy = float(x+w/2), float(y+h/2)\n",
    "\n",
    "    rows.append(dict(ID=i, area=area, perimetro=perimeter, x=x, y=y, w=w, h=h, cx=cx, cy=cy))\n",
    "\n",
    "    cv2.rectangle(vis_props, (x,y), (x+w,y+h), (0,255,0), 2)\n",
    "    cv2.circle(vis_props, (int(cx), int(cy)), 4, (255,255,0), -1)\n",
    "    cv2.putText(vis_props, str(i), (int(cx)+5, int(cy)-5), cv2.FONT_HERSHEY_SIMPLEX, 0.6, (255,255,0), 2, cv2.LINE_AA)\n",
    "\n",
    "plt.figure(figsize=(6,6)); plt.imshow(vis_props); plt.title(\"Bounding boxes, centroides e IDs\"); plt.axis(\"off\"); plt.show()\n",
    "\n",
    "df = pd.DataFrame(rows).sort_values(\"ID\").reset_index(drop=True)\n",
    "df"
   ]
  },
  {
   "cell_type": "markdown",
   "id": "4b43b415",
   "metadata": {},
   "source": [
    "Ejemplo de jerarquía completa (`RETR_TREE`)."
   ]
  },
  {
   "cell_type": "code",
   "execution_count": null,
   "id": "a0c059bb",
   "metadata": {},
   "outputs": [],
   "source": [
    "contours_all, hierarchy_all = cv2.findContours(bin_img, cv2.RETR_TREE, cv2.CHAIN_APPROX_SIMPLE)\n",
    "colors = [(255,0,0), (0,255,0), (0,0,255), (255,255,0)]\n",
    "vis_tree = rgb.copy()\n",
    "for idx, cnt in enumerate(contours_all):\n",
    "    level = 0\n",
    "    if hierarchy_all is not None:\n",
    "        h = hierarchy_all[0][idx]\n",
    "        parent = h[3]\n",
    "        while parent != -1:\n",
    "            level += 1\n",
    "            parent = hierarchy_all[0][parent][3]\n",
    "    color = colors[level % len(colors)]\n",
    "    cv2.drawContours(vis_tree, contours_all, idx, color, 2)\n",
    "\n",
    "plt.figure(figsize=(6,6)); plt.imshow(vis_tree); plt.title(\"Contornos con jerarquía (RETR_TREE)\"); plt.axis(\"off\"); plt.show()"
   ]
  }
 ],
 "metadata": {},
 "nbformat": 4,
 "nbformat_minor": 5
}
