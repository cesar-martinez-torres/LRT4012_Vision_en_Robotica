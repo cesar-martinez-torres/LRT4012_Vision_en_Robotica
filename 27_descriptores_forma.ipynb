{
 "cells": [
  {
   "cell_type": "markdown",
   "id": "612b9dc5",
   "metadata": {},
   "source": [
    "# 27 · Descriptores de forma (contornos)"
   ]
  },
  {
   "cell_type": "markdown",
   "id": "6cc788e7",
   "metadata": {},
   "source": [
    "Imports y ruta de imagen."
   ]
  },
  {
   "cell_type": "code",
   "execution_count": null,
   "id": "520474b8",
   "metadata": {},
   "outputs": [],
   "source": [
    "import cv2, numpy as np, matplotlib.pyplot as plt, pandas as pd\n",
    "\n",
    "# IMG_PATH = r\"C:\\\\Users\\\\20808\\\\Documents\\\\Repositorios\\\\Vision_en_Robotica\\\\imagenes\\\\pildoras.png\"\n",
    "# IMG_PATH = r\"C:\\\\Users\\\\20808\\\\Documents\\\\Repositorios\\\\Vision_en_Robotica\\\\imagenes\\\\pildoras1.png\"\n",
    "IMG_PATH = r\"C:\\\\Users\\\\20808\\\\Documents\\\\Repositorios\\\\Vision_en_Robotica\\\\imagenes\\\\pildoras2.png\"\n",
    "# IMG_PATH = r\"C:\\\\Users\\\\20808\\\\Documents\\\\Repositorios\\\\Vision_en_Robotica\\\\imagenes\\\\pildoras3.png\""
   ]
  },
  {
   "cell_type": "markdown",
   "id": "5ad373ce",
   "metadata": {},
   "source": [
    "Carga y visualización."
   ]
  },
  {
   "cell_type": "code",
   "execution_count": null,
   "id": "1c330720",
   "metadata": {},
   "outputs": [],
   "source": [
    "bgr = cv2.imread(IMG_PATH, cv2.IMREAD_COLOR)\n",
    "if bgr is None:\n",
    "    raise FileNotFoundError(f\"No se pudo cargar: {IMG_PATH}\")\n",
    "rgb = cv2.cvtColor(bgr, cv2.COLOR_BGR2RGB)\n",
    "plt.figure(figsize=(6,6)); plt.imshow(rgb); plt.title(\"RGB\"); plt.axis(\"off\"); plt.show()"
   ]
  },
  {
   "cell_type": "markdown",
   "id": "fcea829a",
   "metadata": {},
   "source": [
    "Conversión a gris, suavizado y umbralización (Otsu) con polaridad automática."
   ]
  },
  {
   "cell_type": "code",
   "execution_count": null,
   "id": "c05a95ba",
   "metadata": {},
   "outputs": [],
   "source": [
    "gray = cv2.cvtColor(bgr, cv2.COLOR_BGR2GRAY)\n",
    "gray_blur = cv2.GaussianBlur(gray, (5,5), 0)\n",
    "use_inverse = gray_blur.mean() > 127\n",
    "mode = cv2.THRESH_BINARY_INV if use_inverse else cv2.THRESH_BINARY\n",
    "_, bin_img = cv2.threshold(gray_blur, 0, 255, mode + cv2.THRESH_OTSU)\n",
    "plt.figure(figsize=(6,6)); plt.imshow(bin_img, cmap=\"gray\"); plt.title(f\"Binaria (Otsu) modo={'INV' if use_inverse else 'BIN'}\"); plt.axis(\"off\"); plt.show()"
   ]
  },
  {
   "cell_type": "markdown",
   "id": "a2a4c9d2",
   "metadata": {},
   "source": [
    "Detección de contornos externos y visualización."
   ]
  },
  {
   "cell_type": "code",
   "execution_count": null,
   "id": "0d65622c",
   "metadata": {},
   "outputs": [],
   "source": [
    "contours, hierarchy = cv2.findContours(bin_img, cv2.RETR_EXTERNAL, cv2.CHAIN_APPROX_SIMPLE)\n",
    "vis = rgb.copy()\n",
    "cv2.drawContours(vis, contours, -1, (255,0,0), 2)\n",
    "plt.figure(figsize=(6,6)); plt.imshow(vis); plt.title(f\"Contornos externos: {len(contours)}\"); plt.axis(\"off\"); plt.show()"
   ]
  },
  {
   "cell_type": "markdown",
   "id": "91a68f34",
   "metadata": {},
   "source": [
    "Funciones auxiliares para descriptores."
   ]
  },
  {
   "cell_type": "code",
   "execution_count": null,
   "id": "ecc8c7e2",
   "metadata": {},
   "outputs": [],
   "source": [
    "def contour_descriptors(cnt):\n",
    "    area = cv2.contourArea(cnt)\n",
    "    perim = cv2.arcLength(cnt, True)\n",
    "    x,y,w,h = cv2.boundingRect(cnt)\n",
    "    rect_area = w*h\n",
    "    # Circularidad: 4πA / P^2 (1 = círculo)\n",
    "    circularity = (4*np.pi*area)/(perim**2) if perim>0 else 0\n",
    "    # Solidez: A / A_casco (1 = convexo)\n",
    "    hull = cv2.convexHull(cnt)\n",
    "    hull_area = cv2.contourArea(hull)\n",
    "    solidity = (area/hull_area) if hull_area>0 else 0\n",
    "    # Relación de aspecto: w/h\n",
    "    aspect = (w/h) if h>0 else 0\n",
    "    # Excentricidad aproximada a partir de elipse ajustada\n",
    "    ecc = np.nan\n",
    "    if len(cnt) >= 5:\n",
    "        (cx,cy),(MA,ma),angle = cv2.fitEllipse(cnt)\n",
    "        a = max(MA,ma)/2.0; b = min(MA,ma)/2.0\n",
    "        if a>0: ecc = np.sqrt(1 - (b*b)/(a*a))\n",
    "    # Momentos de Hu (log-scale con signo preservado)\n",
    "    hu = cv2.HuMoments(cv2.moments(cnt)).flatten()\n",
    "    hu_log = np.array([-np.sign(h)*np.log10(abs(h)) if h!=0 else 0 for h in hu])\n",
    "    return dict(area=area, perimetro=perim, x=x, y=y, w=w, h=h, circularidad=circularity,\n",
    "                solidez=solidity, aspecto=aspect, excentricidad=ecc,\n",
    "                hu1=hu_log[0], hu2=hu_log[1], hu3=hu_log[2], hu4=hu_log[3], hu5=hu_log[4], hu6=hu_log[5], hu7=hu_log[6])"
   ]
  },
  {
   "cell_type": "markdown",
   "id": "3982fe11",
   "metadata": {},
   "source": [
    "Cálculo de descriptores por contorno y tabla de resultados."
   ]
  },
  {
   "cell_type": "code",
   "execution_count": null,
   "id": "e824c477",
   "metadata": {},
   "outputs": [],
   "source": [
    "rows = []\n",
    "for i, cnt in enumerate(contours, start=1):\n",
    "    d = contour_descriptors(cnt)\n",
    "    d['ID'] = i\n",
    "    rows.append(d)\n",
    "df = pd.DataFrame(rows).set_index('ID').sort_index()\n",
    "pd.set_option('display.float_format', lambda x: f'{x:.4f}')\n",
    "df"
   ]
  },
  {
   "cell_type": "markdown",
   "id": "919ce116",
   "metadata": {},
   "source": [
    "Visualización: color por circularidad; IDs y bounding boxes."
   ]
  },
  {
   "cell_type": "code",
   "execution_count": null,
   "id": "83700a14",
   "metadata": {},
   "outputs": [],
   "source": [
    "vis_desc = rgb.copy()\n",
    "min_c, max_c = float(df['circularidad'].min()), float(df['circularidad'].max())\n",
    "def color_map(val, vmin, vmax):\n",
    "    if vmax<=vmin: return (255,255,255)\n",
    "    t = (val - vmin)/(vmax - vmin)\n",
    "    # mapa simple azul->verde->rojo\n",
    "    r = int(255*t)\n",
    "    g = int(255*(1-abs(t-0.5)*2))\n",
    "    b = int(255*(1-t))\n",
    "    return (r,g,b)\n",
    "\n",
    "for i, cnt in enumerate(contours, start=1):\n",
    "    x,y,w,h = cv2.boundingRect(cnt)\n",
    "    cval = float(df.loc[i,'circularidad']) if i in df.index else 0.0\n",
    "    col = color_map(cval, min_c, max_c)\n",
    "    cv2.drawContours(vis_desc, [cnt], -1, col, 2)\n",
    "    cv2.rectangle(vis_desc, (x,y), (x+w,y+h), (0,255,0), 1)\n",
    "    cx = int(x + w/2); cy = int(y + h/2)\n",
    "    cv2.putText(vis_desc, str(i), (cx, cy), cv2.FONT_HERSHEY_SIMPLEX, 0.5, (255,255,0), 2, cv2.LINE_AA)\n",
    "\n",
    "plt.figure(figsize=(6,6)); plt.imshow(vis_desc); plt.title(\"Contornos coloreados por circularidad\"); plt.axis(\"off\"); plt.show()"
   ]
  },
  {
   "cell_type": "markdown",
   "id": "20f494f0",
   "metadata": {},
   "source": [
    "- Circularidad ≈ 1 indica formas cercanas a círculo; valores menores indican formas alargadas.\n",
    "- Solidez < 1 indica concavidades o contornos con irregularidades respecto a su casco convexo.\n",
    "- Excentricidad en [0,1); cercana a 0 ≈ círculo, cercana a 1 ≈ elipse muy alargada.\n",
    "- Momentos de Hu (log) son invariantes a traslación, escala y rotación (sensibles al ruido).\n"
   ]
  }
 ],
 "metadata": {},
 "nbformat": 4,
 "nbformat_minor": 5
}
